{
 "metadata": {
  "name": "",
  "signature": "sha256:f6655d1ea0229680224597a8f4385bc276abd3da1144313703622ccd975e71f2"
 },
 "nbformat": 3,
 "nbformat_minor": 0,
 "worksheets": [
  {
   "cells": [
    {
     "cell_type": "code",
     "collapsed": false,
     "input": [
      "import numpy as np\n",
      "import scipy as sp\n",
      "import pandas as pd \n",
      "import time\n",
      "from sklearn import linear_model, svm, preprocessing\n",
      "from sklearn.learning_curve import learning_curve\n",
      "from sklearn.cross_validation import StratifiedKFold\n",
      "from sklearn.grid_search import GridSearchCV\n",
      "from sklearn.utils import shuffle\n",
      "import matplotlib.pyplot as plt"
     ],
     "language": "python",
     "metadata": {},
     "outputs": [],
     "prompt_number": 1
    },
    {
     "cell_type": "code",
     "collapsed": false,
     "input": [
      "# setup computer specific variables\n",
      "path = '/home/harry/Documents/git/kaggle/otto/ml_004/'"
     ],
     "language": "python",
     "metadata": {},
     "outputs": [],
     "prompt_number": 2
    },
    {
     "cell_type": "code",
     "collapsed": false,
     "input": [
      "def loglossmulti(act, pred):\n",
      "    \"\"\" Vectorised computation of logloss for multi class problems, taken from Kaggle \"\"\"\n",
      "    \n",
      "    #cap in official Kaggle implementation, \n",
      "    #per forums/t/1576/r-code-for-logloss\n",
      "    epsilon = 1e-15\n",
      "    pred = sp.maximum(epsilon, pred)\n",
      "    pred = sp.minimum(1-epsilon, pred)\n",
      "    \n",
      "    #compute logloss function (vectorised)\n",
      "    ll = sum(sum(   act*sp.log(pred) ))\n",
      "    ll = ll * -1.0/len(act)\n",
      "    return ll"
     ],
     "language": "python",
     "metadata": {},
     "outputs": [],
     "prompt_number": 3
    },
    {
     "cell_type": "code",
     "collapsed": false,
     "input": [
      "def vector_to_binary_matrix(v, num_classes, verbose=False):\n",
      "    output = np.zeros(shape=(np.shape(v)[0],num_classes), dtype='int')\n",
      "    \n",
      "    for i in range(0,num_classes):\n",
      "        output[:,i] = v == i+1\n",
      "        if verbose:\n",
      "            print output[0:5,:]\n",
      "\n",
      "    if verbose: \n",
      "        print output[0:20,:]\n",
      "        \n",
      "    return output"
     ],
     "language": "python",
     "metadata": {},
     "outputs": [],
     "prompt_number": 4
    },
    {
     "cell_type": "code",
     "collapsed": false,
     "input": [
      "def load_training_data(filename, verbose=True):\n",
      "    \"\"\"load data and shuffle\"\"\"\n",
      "    df = shuffle(pd.read_csv(filename))\n",
      "    if verbose:\n",
      "        print df.head()\n",
      "    \n",
      "    return df"
     ],
     "language": "python",
     "metadata": {},
     "outputs": [],
     "prompt_number": 5
    },
    {
     "cell_type": "code",
     "collapsed": false,
     "input": [
      "def feature_scaling(df, verbose=True, scaler=None):\n",
      "    \n",
      "    X = df.loc[:,'feat_1':'feat_93'].as_matrix().astype(np.float32)\n",
      "    \n",
      "    if not scaler:\n",
      "        scaler = preprocessing.StandardScaler().fit(X)\n",
      "    \n",
      "    X = scaler.transform(X)\n",
      "    \n",
      "    y = df['target']\n",
      "    \n",
      "    # replace class inputs with numerical ones\n",
      "    for i in range(1,10):\n",
      "        y = y.replace('Class_{}'.format(i), i)\n",
      "    \n",
      "    return (X, y, scaler)"
     ],
     "language": "python",
     "metadata": {},
     "outputs": [],
     "prompt_number": 6
    },
    {
     "cell_type": "code",
     "collapsed": false,
     "input": [
      "df = load_training_data(path+'train.csv', verbose=False)"
     ],
     "language": "python",
     "metadata": {},
     "outputs": [],
     "prompt_number": 7
    },
    {
     "cell_type": "code",
     "collapsed": false,
     "input": [
      "X_train, y_train, my_scaler = feature_scaling(df, True, None)"
     ],
     "language": "python",
     "metadata": {},
     "outputs": [],
     "prompt_number": 8
    },
    {
     "cell_type": "code",
     "collapsed": false,
     "input": [
      "# explicitally store used parameters\n",
      "C = 31.6227766\n",
      "gamma = 0.01\n",
      "max_iter = 10"
     ],
     "language": "python",
     "metadata": {},
     "outputs": [],
     "prompt_number": 9
    },
    {
     "cell_type": "code",
     "collapsed": false,
     "input": [
      "# set up the SVM based on the above parameters\n",
      "clf = svm.SVC(C=C, cache_size=200, class_weight=None, coef0=0.0, degree=3,\n",
      "gamma=gamma, kernel='rbf', max_iter=max_iter, probability=True, random_state=None,\n",
      "shrinking=True, tol=0.001, verbose=100)"
     ],
     "language": "python",
     "metadata": {},
     "outputs": [],
     "prompt_number": 10
    },
    {
     "cell_type": "code",
     "collapsed": false,
     "input": [
      "clf.fit(X_train, y_train)"
     ],
     "language": "python",
     "metadata": {},
     "outputs": [
      {
       "output_type": "stream",
       "stream": "stdout",
       "text": [
        "[LibSVM]"
       ]
      },
      {
       "output_type": "stream",
       "stream": "stderr",
       "text": [
        "/usr/local/lib/python2.7/dist-packages/sklearn/svm/base.py:209: ConvergenceWarning: Solver terminated early (max_iter=10).  Consider pre-processing your data with StandardScaler or MinMaxScaler.\n",
        "  % self.max_iter, ConvergenceWarning)\n"
       ]
      },
      {
       "metadata": {},
       "output_type": "pyout",
       "prompt_number": 11,
       "text": [
        "SVC(C=31.6227766, cache_size=200, class_weight=None, coef0=0.0, degree=3,\n",
        "  gamma=0.01, kernel='rbf', max_iter=10, probability=True,\n",
        "  random_state=None, shrinking=True, tol=0.001, verbose=100)"
       ]
      }
     ],
     "prompt_number": 11
    },
    {
     "cell_type": "code",
     "collapsed": false,
     "input": [
      "llm_train = loglossmulti(vector_to_binary_matrix(y_train, 9), clf.predict_proba(X_train))\n",
      "print llm_train"
     ],
     "language": "python",
     "metadata": {},
     "outputs": [
      {
       "output_type": "stream",
       "stream": "stdout",
       "text": [
        "2.21075132717\n"
       ]
      }
     ],
     "prompt_number": 12
    },
    {
     "cell_type": "code",
     "collapsed": false,
     "input": [
      "def load_team_train_and_cv_set():\n",
      "    \"\"\" returns a dataframe for the given test and training set \"\"\"\n",
      "    new_df = pd.read_csv('/home/harry/Documents/git/kaggle/otto/ml_004/train.csv')\n",
      "    filter_df = pd.read_csv('/home/harry/Documents/git/kaggle/otto/ml_004/trainkey.csv')\n",
      "    training_set = new_df[new_df['id'].isin(filter_df['Train'])]\n",
      "    cv_set = new_df[~new_df['id'].isin(filter_df['Train'])]\n",
      "    return (training_set, cv_set)"
     ],
     "language": "python",
     "metadata": {},
     "outputs": [],
     "prompt_number": 13
    },
    {
     "cell_type": "code",
     "collapsed": false,
     "input": [
      "team_training_set, team_cv_set = load_team_train_and_cv_set()\n",
      "print team_training_set.head()"
     ],
     "language": "python",
     "metadata": {},
     "outputs": [
      {
       "output_type": "stream",
       "stream": "stdout",
       "text": [
        "   id  feat_1  feat_2  feat_3  feat_4  feat_5  feat_6  feat_7  feat_8  feat_9  \\\n",
        "0   1       1       0       0       0       0       0       0       0       0   \n",
        "1   2       0       0       0       0       0       0       0       1       0   \n",
        "3   4       1       0       0       1       6       1       5       0       0   \n",
        "4   5       0       0       0       0       0       0       0       0       0   \n",
        "5   6       2       1       0       0       7       0       0       0       0   \n",
        "\n",
        "   feat_10  feat_11  feat_12  feat_13  feat_14  feat_15  feat_16  feat_17  \\\n",
        "0        0        1        0        0        0        0        0        2   \n",
        "1        0        0        0        0        0        0        0        0   \n",
        "3        1        1        0        1        0        0        1        1   \n",
        "4        0        0        0        0        0        0        0        4   \n",
        "5        0        0        0        2        0        0        0        6   \n",
        "\n",
        "   feat_18  feat_19      \n",
        "0        0        0 ...  \n",
        "1        2        0 ...  \n",
        "3        0        0 ...  \n",
        "4        0        0 ...  \n",
        "5        0        0 ...  \n",
        "\n",
        "[5 rows x 95 columns]\n"
       ]
      }
     ],
     "prompt_number": 14
    },
    {
     "cell_type": "code",
     "collapsed": false,
     "input": [
      "X_team_train, y_team_train, scaler = feature_scaling(shuffle(team_training_set))"
     ],
     "language": "python",
     "metadata": {},
     "outputs": [],
     "prompt_number": 15
    },
    {
     "cell_type": "code",
     "collapsed": false,
     "input": [
      "print X_team_train"
     ],
     "language": "python",
     "metadata": {},
     "outputs": [
      {
       "output_type": "stream",
       "stream": "stdout",
       "text": [
        "[[ 0.40129527 -0.21150398  0.71182549 ..., -0.13042188 -0.38677642\n",
        "  -0.10677632]\n",
        " [-0.25530943 -0.21150398 -0.30651003 ..., -0.13042188 -0.38677642\n",
        "  -0.10677632]\n",
        " [-0.25530943 -0.21150398 -0.30651003 ..., -0.13042188 -0.38677642\n",
        "  -0.10677632]\n",
        " ..., \n",
        " [ 0.40129527 -0.21150398  1.39071584 ..., -0.13042188 -0.38677642\n",
        "  -0.10677632]\n",
        " [-0.25530943 -0.21150398 -0.30651003 ..., -0.13042188 -0.38677642\n",
        "  -0.10677632]\n",
        " [-0.25530943 -0.21150398 -0.30651003 ..., -0.13042188  0.62491214\n",
        "  -0.10677632]]\n"
       ]
      }
     ],
     "prompt_number": 16
    },
    {
     "cell_type": "code",
     "collapsed": false,
     "input": [
      "def load_test_set():\n",
      "    df = pd.read_csv('/home/harry/Documents/git/kaggle/otto/ml_004/test.csv')\n",
      "    return df"
     ],
     "language": "python",
     "metadata": {},
     "outputs": [],
     "prompt_number": 17
    },
    {
     "cell_type": "code",
     "collapsed": false,
     "input": [
      "test_df = load_test_set().as_matrix()[:,1:].astype(np.float32)\n",
      "X_test = scaler.transform(test_df)\n",
      "\n",
      "\n",
      "test_proba = clf.predict_proba(X_test)\n",
      "test_proba\n",
      "np.savetxt('/home/harry/Documents/git/kaggle/otto/ml_004/outputs/testing.csv', \n",
      "           test_proba, \n",
      "           delimiter=',', \n",
      "           fmt='%f')"
     ],
     "language": "python",
     "metadata": {},
     "outputs": [],
     "prompt_number": 18
    }
   ],
   "metadata": {}
  }
 ]
}