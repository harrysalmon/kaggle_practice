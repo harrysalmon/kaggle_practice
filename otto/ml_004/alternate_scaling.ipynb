{
 "metadata": {
  "name": "",
  "signature": "sha256:e838fd1b76d90ab138315f6766c9c3034cdf9ac21fafd3fdb41dffbd3c83190a"
 },
 "nbformat": 3,
 "nbformat_minor": 0,
 "worksheets": [
  {
   "cells": [
    {
     "cell_type": "code",
     "collapsed": false,
     "input": [
      "import numpy as np\n",
      "import scipy as sp\n",
      "import pandas as pd \n",
      "import time\n",
      "from sklearn import linear_model, svm, preprocessing\n",
      "from sklearn.learning_curve import learning_curve\n",
      "from sklearn.cross_validation import StratifiedKFold\n",
      "from sklearn.grid_search import GridSearchCV\n",
      "from sklearn.utils import shuffle\n",
      "import matplotlib.pyplot as plt"
     ],
     "language": "python",
     "metadata": {},
     "outputs": [],
     "prompt_number": 1
    },
    {
     "cell_type": "code",
     "collapsed": false,
     "input": [
      "# setup computer specific variables\n",
      "path = '/home/harry/Documents/git/kaggle/otto/ml_004/'"
     ],
     "language": "python",
     "metadata": {},
     "outputs": [],
     "prompt_number": 2
    },
    {
     "cell_type": "code",
     "collapsed": false,
     "input": [
      "def loglossmulti(act, pred):\n",
      "    \"\"\" Vectorised computation of logloss for multi class problems, taken from Kaggle \"\"\"\n",
      "    \n",
      "    #cap in official Kaggle implementation, \n",
      "    #per forums/t/1576/r-code-for-logloss\n",
      "    epsilon = 1e-15\n",
      "    pred = sp.maximum(epsilon, pred)\n",
      "    pred = sp.minimum(1-epsilon, pred)\n",
      "    \n",
      "    #compute logloss function (vectorised)\n",
      "    ll = sum(sum(   act*sp.log(pred) ))\n",
      "    ll = ll * -1.0/len(act)\n",
      "    return ll"
     ],
     "language": "python",
     "metadata": {},
     "outputs": [],
     "prompt_number": 3
    },
    {
     "cell_type": "code",
     "collapsed": false,
     "input": [
      "def vector_to_binary_matrix(v, num_classes, verbose=False):\n",
      "    output = np.zeros(shape=(np.shape(v)[0],num_classes), dtype='int')\n",
      "    \n",
      "    for i in range(0,num_classes):\n",
      "        output[:,i] = v == i+1\n",
      "        if verbose:\n",
      "            print output[0:5,:]\n",
      "\n",
      "    if verbose: \n",
      "        print output[0:20,:]\n",
      "        \n",
      "    return output"
     ],
     "language": "python",
     "metadata": {},
     "outputs": [],
     "prompt_number": 4
    },
    {
     "cell_type": "code",
     "collapsed": false,
     "input": [
      "def load_team_train_and_cv_set():\n",
      "    \"\"\" returns a dataframe for the given test and training set \"\"\"\n",
      "    new_df = pd.read_csv('/home/harry/Documents/git/kaggle/otto/ml_004/train.csv')\n",
      "    filter_df = pd.read_csv('/home/harry/Documents/git/kaggle/otto/ml_004/trainkey.csv')\n",
      "    training_set = new_df[new_df['id'].isin(filter_df['Train'])]\n",
      "    cv_set = new_df[~new_df['id'].isin(filter_df['Train'])]\n",
      "    return (training_set, cv_set)"
     ],
     "language": "python",
     "metadata": {},
     "outputs": [],
     "prompt_number": 5
    },
    {
     "cell_type": "code",
     "collapsed": false,
     "input": [
      "def extract_X_and_y(df):\n",
      "    \"\"\"pass shuffle(df) when training. Returns X, y\"\"\"\n",
      "    X = df.loc[:,'feat_1':'feat_93']\n",
      "    \n",
      "    y = df['target']\n",
      "    \n",
      "    # replace class inputs with numerical ones\n",
      "    for i in range(1,10):\n",
      "        y = y.replace('Class_{}'.format(i), i)\n",
      "    \n",
      "    return (X, y)"
     ],
     "language": "python",
     "metadata": {},
     "outputs": [],
     "prompt_number": 12
    },
    {
     "cell_type": "code",
     "collapsed": false,
     "input": [
      "# running custom scaling\n",
      "#def custom_log_scaling(X):\n",
      "#    \"\"\"returns a scaled X, as well as a tuple of (mean, variance)\"\"\"\n",
      "training_set, cv_set = load_team_train_and_cv_set()\n",
      "\n",
      "X, y = extract_X_and_y(shuffle(training_set))"
     ],
     "language": "python",
     "metadata": {},
     "outputs": [],
     "prompt_number": 13
    },
    {
     "cell_type": "code",
     "collapsed": false,
     "input": [
      "X_log = (X+1).apply(np.log, axis=1).apply(np.)\n",
      "#print X_log\n",
      "\n",
      "plt.figure()\n",
      "X_log['feat_3'].hist()\n",
      "plt.show()"
     ],
     "language": "python",
     "metadata": {},
     "outputs": [],
     "prompt_number": 29
    }
   ],
   "metadata": {}
  }
 ]
}