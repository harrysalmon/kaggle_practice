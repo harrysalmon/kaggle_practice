{
 "metadata": {
  "name": "",
  "signature": "sha256:aa9f414b1006b71bcc0eba6e71f49b56e18e84a6e0b7f26eacb098df6c8c470d"
 },
 "nbformat": 3,
 "nbformat_minor": 0,
 "worksheets": [
  {
   "cells": [
    {
     "cell_type": "code",
     "collapsed": false,
     "input": [
      "import numpy as np\n",
      "import scipy as sp\n",
      "import pandas as pd \n",
      "import time\n",
      "from sklearn import linear_model, svm, preprocessing\n",
      "from sklearn.learning_curve import learning_curve\n",
      "from sklearn.cross_validation import StratifiedKFold\n",
      "from sklearn.grid_search import GridSearchCV\n",
      "import matplotlib.pyplot as plt"
     ],
     "language": "python",
     "metadata": {},
     "outputs": [],
     "prompt_number": 3
    },
    {
     "cell_type": "code",
     "collapsed": false,
     "input": [
      "def logloss(act, pred):\n",
      "    \"\"\" Vectorised computation of logloss \"\"\"\n",
      "    \n",
      "    #cap in official Kaggle implementation, \n",
      "    #per forums/t/1576/r-code-for-logloss\n",
      "    epsilon = 1e-15\n",
      "    pred = sp.maximum(epsilon, pred)\n",
      "    pred = sp.minimum(1-epsilon, pred)\n",
      "    \n",
      "    #compute logloss function (vectorised)\n",
      "    ll = sum(   act*sp.log(pred) + \n",
      "                sp.subtract(1,act)*sp.log(sp.subtract(1,pred)))\n",
      "    ll = ll * -1.0/len(act)\n",
      "    return ll"
     ],
     "language": "python",
     "metadata": {},
     "outputs": [],
     "prompt_number": 4
    },
    {
     "cell_type": "code",
     "collapsed": false,
     "input": [
      "def loglossmulti(act, pred):\n",
      "    \"\"\" Vectorised computation of logloss for multi class problems \"\"\"\n",
      "    \n",
      "    #cap in official Kaggle implementation, \n",
      "    #per forums/t/1576/r-code-for-logloss\n",
      "    epsilon = 1e-15\n",
      "    pred = sp.maximum(epsilon, pred)\n",
      "    pred = sp.minimum(1-epsilon, pred)\n",
      "    \n",
      "    #compute logloss function (vectorised)\n",
      "    ll = sum(sum(   act*sp.log(pred) ))\n",
      "    ll = ll * -1.0/len(act)\n",
      "    return ll"
     ],
     "language": "python",
     "metadata": {},
     "outputs": [],
     "prompt_number": 5
    },
    {
     "cell_type": "code",
     "collapsed": false,
     "input": [
      "def vector_to_binary_matrix(v, num_classes):\n",
      "    output = np.zeros(shape=(np.shape(v)[0],num_classes), dtype='int')\n",
      "    \n",
      "    for i in range(0,num_classes):\n",
      "        output[:,i] = v == i+1\n",
      "\n",
      "    #print output[0:20,:]\n",
      "    return output"
     ],
     "language": "python",
     "metadata": {},
     "outputs": [],
     "prompt_number": 6
    },
    {
     "cell_type": "code",
     "collapsed": false,
     "input": [
      "# load training data\n",
      "X_y_train = np.genfromtxt('/home/harry/Documents/git/kaggle/otto/ml_004/X_y_train.csv', delimiter=',', dtype='float32')\n",
      "X_train = X_y_train[:,0:93]\n",
      "y_train = X_y_train[:,93]"
     ],
     "language": "python",
     "metadata": {},
     "outputs": [],
     "prompt_number": 7
    },
    {
     "cell_type": "code",
     "collapsed": false,
     "input": [
      "scaler = preprocessing.StandardScaler().fit(X_train)\n",
      "X_train = scaler.transform(X_train)"
     ],
     "language": "python",
     "metadata": {},
     "outputs": [],
     "prompt_number": 8
    },
    {
     "cell_type": "code",
     "collapsed": false,
     "input": [
      "#np.savetxt('/home/harry/Documents/git/kaggle/otto/ml_004/y_train_s.csv', y_train, delimiter=',', fmt='%d')"
     ],
     "language": "python",
     "metadata": {},
     "outputs": [],
     "prompt_number": 41
    },
    {
     "cell_type": "code",
     "collapsed": false,
     "input": [
      "# visualise first lines of data\n",
      "print X_train[0:2,:]#http://localhost:8888/notebooks/otto_log_reg.ipynb"
     ],
     "language": "python",
     "metadata": {},
     "outputs": [
      {
       "output_type": "stream",
       "stream": "stdout",
       "text": [
        "[[-0.25335416 -0.20793186 -0.30744803 -0.28015968 -0.16049263 -0.11945356\n",
        "  -0.1873523  -0.29276192 -0.29141653 -0.24148998 -0.41175914 -0.25277528\n",
        "  -0.237967   -0.53668976 -0.33170754 -0.63499165 -0.24750836 -0.42893568\n",
        "  -0.11958762 -0.32809636  1.1604141  -0.50504684 -0.18123662 -0.56800735\n",
        "   0.20108138 -0.32706073 -0.24197914 -0.28863648 -0.14580232 -0.0904063\n",
        "  -0.17022176 -0.42844939 -0.53032035 -0.28072685 -0.20992647 -0.27668983\n",
        "  -0.34701389 -0.36602265 -0.14744453  0.4134385  -0.28373036 -0.35604718\n",
        "  -0.26401818 -0.41455096 -0.09166624 -0.27350938 -0.17299066 -0.61774611\n",
        "  -0.25165424 -0.18701123 -0.10514797 -0.2028503  -0.21995065 -0.50382304\n",
        "  -0.32243612 -0.15836388 -0.28541225 -0.17559899 -0.15108603 -0.34121311\n",
        "  -0.2359467  -0.44478104 -0.17562236 -0.36852127 -0.29226601 -0.41631171\n",
        "  -0.18134965 -0.22434767 -0.19841608 -0.46025556 -0.27755558 -0.35593197\n",
        "  -0.1005526  -0.1568754  -0.22808769 -0.25625226 -0.13902928 -0.13131721\n",
        "  -0.23354113 -0.3108905  -0.17130984 -0.22441959 -0.20307121 -0.06121032\n",
        "  -0.27784118 -0.04692749 -0.2521922  -0.41202462 -0.30011195 -0.17909592\n",
        "  -0.12965041  0.63083953 -0.10538381]\n",
        " [ 1.71035492 -0.20793186 -0.30744803 -0.28015968 -0.16049263 -0.11945356\n",
        "  -0.1873523  -0.29276192  2.57911658 -0.24148998 -0.41175914 -0.25277528\n",
        "  -0.237967   -0.53668976  0.44776922 -0.63499165 -0.24750836 -0.42893568\n",
        "  -0.11958762 -0.32809636 -0.29572952 -0.50504684 -0.18123662  0.92898971\n",
        "  -0.22839618 -0.32706073 -0.24197914 -0.28863648 -0.14580232 -0.0904063\n",
        "  -0.17022176  3.25488067 -0.53032035 -0.28072685 -0.20992647 -0.27668983\n",
        "  -0.34701389 -0.36602265 -0.14744453 -0.50153065 -0.28373036 -0.35604718\n",
        "  -0.26401818 -0.41455096 -0.09166624 -0.27350938 -0.17299066 -0.2272753\n",
        "  -0.25165424 -0.18701123 -0.10514797 -0.2028503  -0.21995065 -0.50382304\n",
        "  -0.32243612 -0.15836388 -0.28541225 -0.17559899 -0.15108603 -0.34121311\n",
        "  -0.2359467  -0.44478104 -0.17562236 -0.07633919 -0.29226601 -0.41631171\n",
        "   0.02056603 -0.22434767 -0.19841608 -0.46025556 -0.27755558 -0.35593197\n",
        "  -0.1005526  -0.1568754   0.08278939 -0.25625226 -0.13902928 -0.13131721\n",
        "  -0.23354113 -0.3108905  -0.17130984 -0.22441959 -0.20307121 -0.06121032\n",
        "  -0.27784118 -0.41942164 -0.2521922  -0.41202462 -0.30011195 -0.17909592\n",
        "  -0.12965041 -0.38679284 -0.10538381]]\n"
       ]
      }
     ],
     "prompt_number": 9
    },
    {
     "cell_type": "code",
     "collapsed": false,
     "input": [
      "print y_train[0:2]"
     ],
     "language": "python",
     "metadata": {},
     "outputs": [
      {
       "output_type": "stream",
       "stream": "stdout",
       "text": [
        "[ 2.  3.]\n"
       ]
      }
     ],
     "prompt_number": 10
    },
    {
     "cell_type": "code",
     "collapsed": false,
     "input": [
      "C_range = 10. ** np.arange(-2, 9)\n",
      "gamma_range = 10. ** np.arange(-5, 4)\n",
      "param_grid = dict(gamma=gamma_range, C=C_range)\n",
      "print param_grid"
     ],
     "language": "python",
     "metadata": {},
     "outputs": [
      {
       "output_type": "stream",
       "stream": "stdout",
       "text": [
        "{'C': array([  1.00000000e-02,   1.00000000e-01,   1.00000000e+00,\n",
        "         1.00000000e+01,   1.00000000e+02,   1.00000000e+03,\n",
        "         1.00000000e+04,   1.00000000e+05,   1.00000000e+06,\n",
        "         1.00000000e+07,   1.00000000e+08]), 'gamma': array([  1.00000000e-05,   1.00000000e-04,   1.00000000e-03,\n",
        "         1.00000000e-02,   1.00000000e-01,   1.00000000e+00,\n",
        "         1.00000000e+01,   1.00000000e+02,   1.00000000e+03])}\n"
       ]
      }
     ],
     "prompt_number": 14
    },
    {
     "cell_type": "code",
     "collapsed": false,
     "input": [],
     "language": "python",
     "metadata": {},
     "outputs": [
      {
       "ename": "NameError",
       "evalue": "name 'svm' is not defined",
       "output_type": "pyerr",
       "traceback": [
        "\u001b[1;31m---------------------------------------------------------------------------\u001b[0m\n\u001b[1;31mNameError\u001b[0m                                 Traceback (most recent call last)",
        "\u001b[1;32m<ipython-input-1-884f978362a2>\u001b[0m in \u001b[0;36m<module>\u001b[1;34m()\u001b[0m\n\u001b[0;32m      1\u001b[0m \u001b[1;31m# using the svm classifier\u001b[0m\u001b[1;33m\u001b[0m\u001b[1;33m\u001b[0m\u001b[0m\n\u001b[1;32m----> 2\u001b[1;33m clf = svm.SVC(C=15.0, cache_size=200, class_weight=None, coef0=0.0, degree=3,\n\u001b[0m\u001b[0;32m      3\u001b[0m \u001b[0mgamma\u001b[0m\u001b[1;33m=\u001b[0m\u001b[1;36m0.0\u001b[0m\u001b[1;33m,\u001b[0m \u001b[0mkernel\u001b[0m\u001b[1;33m=\u001b[0m\u001b[1;34m'rbf'\u001b[0m\u001b[1;33m,\u001b[0m \u001b[0mmax_iter\u001b[0m\u001b[1;33m=\u001b[0m\u001b[1;36m5000\u001b[0m\u001b[1;33m,\u001b[0m \u001b[0mprobability\u001b[0m\u001b[1;33m=\u001b[0m\u001b[0mTrue\u001b[0m\u001b[1;33m,\u001b[0m \u001b[0mrandom_state\u001b[0m\u001b[1;33m=\u001b[0m\u001b[0mNone\u001b[0m\u001b[1;33m,\u001b[0m\u001b[1;33m\u001b[0m\u001b[0m\n\u001b[0;32m      4\u001b[0m shrinking=True, tol=0.001, verbose=1)\n",
        "\u001b[1;31mNameError\u001b[0m: name 'svm' is not defined"
       ]
      }
     ],
     "prompt_number": 1
    },
    {
     "cell_type": "code",
     "collapsed": false,
     "input": [
      "grid = GridSearchCV(svm.SVC(), param_grid=param_grid, scoring='log_loss', max_iter=1000, cv=StratifiedKFold(y=Y, k=5))"
     ],
     "language": "python",
     "metadata": {},
     "outputs": []
    },
    {
     "cell_type": "code",
     "collapsed": false,
     "input": [],
     "language": "python",
     "metadata": {},
     "outputs": [
      {
       "ename": "NameError",
       "evalue": "name 'np' is not defined",
       "output_type": "pyerr",
       "traceback": [
        "\u001b[1;31m---------------------------------------------------------------------------\u001b[0m\n\u001b[1;31mNameError\u001b[0m                                 Traceback (most recent call last)",
        "\u001b[1;32m<ipython-input-2-c8658daaba6e>\u001b[0m in \u001b[0;36m<module>\u001b[1;34m()\u001b[0m\n\u001b[1;32m----> 1\u001b[1;33m \u001b[0mC_range\u001b[0m \u001b[1;33m=\u001b[0m \u001b[1;36m10.\u001b[0m \u001b[1;33m**\u001b[0m \u001b[0mnp\u001b[0m\u001b[1;33m.\u001b[0m\u001b[0marange\u001b[0m\u001b[1;33m(\u001b[0m\u001b[1;33m-\u001b[0m\u001b[1;36m2\u001b[0m\u001b[1;33m,\u001b[0m \u001b[1;36m9\u001b[0m\u001b[1;33m)\u001b[0m\u001b[1;33m\u001b[0m\u001b[0m\n\u001b[0m\u001b[0;32m      2\u001b[0m \u001b[0mgamma_range\u001b[0m \u001b[1;33m=\u001b[0m \u001b[1;36m10.\u001b[0m \u001b[1;33m**\u001b[0m \u001b[0mnp\u001b[0m\u001b[1;33m.\u001b[0m\u001b[0marange\u001b[0m\u001b[1;33m(\u001b[0m\u001b[1;33m-\u001b[0m\u001b[1;36m5\u001b[0m\u001b[1;33m,\u001b[0m \u001b[1;36m4\u001b[0m\u001b[1;33m)\u001b[0m\u001b[1;33m\u001b[0m\u001b[0m\n",
        "\u001b[1;31mNameError\u001b[0m: name 'np' is not defined"
       ]
      }
     ],
     "prompt_number": 2
    },
    {
     "cell_type": "code",
     "collapsed": false,
     "input": [
      "timings = {\n",
      "'fit': \n",
      "    { \n",
      "    'start': time.clock(),\n",
      "    'stop': 0\n",
      "    }, \n",
      "'predict': {\n",
      "    'start': 0,\n",
      "    'stop': 0\n",
      "    }\n",
      "}\n",
      "clf.fit(X_train, y_train)\n",
      "\n",
      "# store the timings of the fit step\n",
      "timings['fit']['stop'] = time.clock()\n",
      "print timings['fit']['stop'] - timings['fit']['start']"
     ],
     "language": "python",
     "metadata": {},
     "outputs": []
    },
    {
     "cell_type": "code",
     "collapsed": false,
     "input": [
      "# the vector of training predictions\n",
      "timings['predict']['start'] = time.clock()\n",
      "train_predictions = clf.predict(X_train)\n",
      "timings['predict']['stop'] = time.clock()\n",
      "print timings['predict']['stop'] - timings['predict']['start']"
     ],
     "language": "python",
     "metadata": {},
     "outputs": []
    },
    {
     "cell_type": "code",
     "collapsed": false,
     "input": [
      "print train_predictions"
     ],
     "language": "python",
     "metadata": {},
     "outputs": []
    },
    {
     "cell_type": "code",
     "collapsed": false,
     "input": [
      "# the boolean vector of successful trainging predictions\n",
      "success_vector = train_predictions == y_train\n",
      "training_accuracy = np.mean(success_vector)\n",
      "#print np.shape(success_vector) # as a check\n",
      "print training_accuracy"
     ],
     "language": "python",
     "metadata": {},
     "outputs": []
    },
    {
     "cell_type": "code",
     "collapsed": false,
     "input": [
      "X_y_cv = np.genfromtxt('/home/harry/Documents/git/kaggle/otto/ml_004/X_y_cv.csv', delimiter=',', dtype='float32')\n",
      "X_cv = X_y_cv[:,0:93]\n",
      "X_cv = scaler.transform(X_cv)\n",
      "y_cv = X_y_cv[:,93]"
     ],
     "language": "python",
     "metadata": {},
     "outputs": []
    },
    {
     "cell_type": "code",
     "collapsed": false,
     "input": [
      "# visualise first lines of cv data\n",
      "#print X_cv[0:2,:]"
     ],
     "language": "python",
     "metadata": {},
     "outputs": []
    },
    {
     "cell_type": "code",
     "collapsed": false,
     "input": [
      "# get the cross validation accuracy\n",
      "cv_predictions = clf.predict(X_cv)\n",
      "cv_success_vector = cv_predictions == y_cv\n",
      "cv_accuracy = np.mean(cv_success_vector)\n",
      "#print np.shape(cv_success_vector) # as a check\n",
      "#print vector_to_binary_matrix(cv_predictions, 9)\n",
      "print \"CV accuracy is {}\".format(cv_accuracy)\n",
      "cv_logloss = loglossmulti(vector_to_binary_matrix(y_cv, 9), vector_to_binary_matrix(cv_predictions, 9))\n",
      "print \"CV log loss is {}\".format(cv_logloss)"
     ],
     "language": "python",
     "metadata": {},
     "outputs": []
    },
    {
     "cell_type": "code",
     "collapsed": false,
     "input": [
      "# output predictions \n",
      "#X_test = np.genfromtxt('/home/harry/Documents/git/kaggle/otto/ml_004/test_X_y.csv', delimiter=',', dtype='float32')"
     ],
     "language": "python",
     "metadata": {},
     "outputs": []
    },
    {
     "cell_type": "code",
     "collapsed": false,
     "input": [
      "# visualise first lines of test data\n",
      "#print X_test[0:2,:]"
     ],
     "language": "python",
     "metadata": {},
     "outputs": []
    },
    {
     "cell_type": "code",
     "collapsed": false,
     "input": [
      "# get the test output\n",
      "#num_classes = 9 \n",
      "#test_predictions = clf.predict(X_test) # a vector of predictions\n",
      "#output = np.zeros(shape=(np.shape(test_predictions)[0],num_classes), dtype='int')\n",
      "#for i in range(0,num_classes):\n",
      "#    output[:,i] = test_predictions == i+1\n",
      "#\n",
      "#print output[0:20,:]\n",
      "#np.savetxt('/home/harry/Documents/git/kaggle/otto/ml_004/svm_50000_second.csv', output, delimiter=',', fmt='%d')"
     ],
     "language": "python",
     "metadata": {},
     "outputs": []
    }
   ],
   "metadata": {}
  }
 ]
}