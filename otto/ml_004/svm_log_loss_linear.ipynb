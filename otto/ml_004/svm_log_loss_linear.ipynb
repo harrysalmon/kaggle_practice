{
 "metadata": {
  "name": "",
  "signature": "sha256:1a9844652f1ccc7531739976dc3fa99966971cf87d622f720c50110ca84e0338"
 },
 "nbformat": 3,
 "nbformat_minor": 0,
 "worksheets": [
  {
   "cells": [
    {
     "cell_type": "code",
     "collapsed": false,
     "input": [
      "#from sklearn import datasets\n",
      "import numpy as np\n",
      "import scipy as sp\n",
      "import pandas as pd \n",
      "import time\n",
      "from sklearn import linear_model, svm, preprocessing\n",
      "from sklearn.learning_curve import learning_curve\n",
      "from sklearn.cross_validation import StratifiedKFold\n",
      "from sklearn.grid_search import GridSearchCV\n",
      "import matplotlib.pyplot as plt"
     ],
     "language": "python",
     "metadata": {},
     "outputs": [],
     "prompt_number": 4
    },
    {
     "cell_type": "code",
     "collapsed": false,
     "input": [
      "def logloss(act, pred):\n",
      "    \"\"\" Vectorised computation of logloss \"\"\"\n",
      "    \n",
      "    #cap in official Kaggle implementation, \n",
      "    #per forums/t/1576/r-code-for-logloss\n",
      "    epsilon = 1e-15\n",
      "    pred = sp.maximum(epsilon, pred)\n",
      "    pred = sp.minimum(1-epsilon, pred)\n",
      "    \n",
      "    #compute logloss function (vectorised)\n",
      "    ll = sum(   act*sp.log(pred) + \n",
      "                sp.subtract(1,act)*sp.log(sp.subtract(1,pred)))\n",
      "    ll = ll * -1.0/len(act)\n",
      "    return ll"
     ],
     "language": "python",
     "metadata": {},
     "outputs": [],
     "prompt_number": 5
    },
    {
     "cell_type": "code",
     "collapsed": false,
     "input": [
      "def loglossmulti(act, pred):\n",
      "    \"\"\" Vectorised computation of logloss for multi class problems \"\"\"\n",
      "    \n",
      "    #cap in official Kaggle implementation, \n",
      "    #per forums/t/1576/r-code-for-logloss\n",
      "    epsilon = 1e-15\n",
      "    pred = sp.maximum(epsilon, pred)\n",
      "    pred = sp.minimum(1-epsilon, pred)\n",
      "    \n",
      "    #compute logloss function (vectorised)\n",
      "    ll = sum(sum(   act*sp.log(pred) ))\n",
      "    ll = ll * -1.0/len(act)\n",
      "    return ll"
     ],
     "language": "python",
     "metadata": {},
     "outputs": [],
     "prompt_number": 6
    },
    {
     "cell_type": "code",
     "collapsed": false,
     "input": [
      "def vector_to_binary_matrix(v, num_classes):\n",
      "    output = np.zeros(shape=(np.shape(v)[0],num_classes), dtype='int')\n",
      "    \n",
      "    for i in range(0,num_classes):\n",
      "        output[:,i] = v == i+1\n",
      "\n",
      "    #print output[0:20,:]\n",
      "    return output"
     ],
     "language": "python",
     "metadata": {},
     "outputs": [],
     "prompt_number": 7
    },
    {
     "cell_type": "code",
     "collapsed": false,
     "input": [
      "data=pd.read_csv('X_y_shuf.csv').as_matrix()\n",
      "X = data[:,0:93]\n",
      "y = data[:,93]\n",
      "\n",
      "means = np.mean(X,0) # columns mean\n",
      "means_array = means*np.ones(shape=(np.shape(X)[0],1))\n",
      "stds = np.std(X,0) # columns std\n",
      "stds_array = stds*np.ones(shape=(np.shape(X[:,0:93])[0],1))\n",
      "X = (X - means_array) / stds_array\n",
      "# This converts the vecotr into a matrix and concatenates it\n",
      "y = y.reshape(np.shape(y)[0],1)\n",
      "data = np.concatenate([X, y],axis=1)\n",
      "print data\n",
      "\n"
     ],
     "language": "python",
     "metadata": {},
     "outputs": [
      {
       "output_type": "stream",
       "stream": "stdout",
       "text": [
        "[[ 1.71327884 -0.2101078  -0.30716818 ..., -0.38692601 -0.104964    3.        ]\n",
        " [-0.25351026 -0.2101078  -0.30716818 ..., -0.38692601 -0.104964    5.        ]\n",
        " [ 0.40208611  0.58856773 -0.30716818 ..., -0.38692601 -0.104964    1.        ]\n",
        " ..., \n",
        " [-0.25351026 -0.2101078  -0.30716818 ..., -0.38692601 -0.104964    2.        ]\n",
        " [-0.25351026 -0.2101078  -0.30716818 ...,  0.63100855 -0.104964    8.        ]\n",
        " [-0.25351026  0.58856773 -0.30716818 ..., -0.38692601 -0.104964    8.        ]]\n"
       ]
      }
     ],
     "prompt_number": 8
    },
    {
     "cell_type": "code",
     "collapsed": false,
     "input": [
      "C_range = 10. ** np.arange(-2, 5, 1)\n",
      "param_grid = dict(C=C_range)\n",
      "print param_grid"
     ],
     "language": "python",
     "metadata": {},
     "outputs": [
      {
       "output_type": "stream",
       "stream": "stdout",
       "text": [
        "{'C': array([  1.00000000e-02,   1.00000000e-01,   1.00000000e+00,\n",
        "         1.00000000e+01,   1.00000000e+02,   1.00000000e+03,\n",
        "         1.00000000e+04])}\n"
       ]
      }
     ],
     "prompt_number": 9
    },
    {
     "cell_type": "code",
     "collapsed": false,
     "input": [
      "clf = GridSearchCV(svm.SVC(max_iter=2000, probability=True, verbose=0, kernel='linear'), \n",
      "                   param_grid=param_grid, scoring='log_loss', cv=2, verbose=100, n_jobs=4)"
     ],
     "language": "python",
     "metadata": {},
     "outputs": [],
     "prompt_number": 10
    },
    {
     "cell_type": "code",
     "collapsed": false,
     "input": [
      "clf.fit(X,y[:,0])"
     ],
     "language": "python",
     "metadata": {},
     "outputs": [
      {
       "output_type": "stream",
       "stream": "stdout",
       "text": [
        "Fitting 2 folds for each of 7 candidates, totalling 14 fits\n"
       ]
      },
      {
       "output_type": "stream",
       "stream": "stdout",
       "text": [
        "Pickling array (shape=(61877, 93), dtype=float64).\n",
        "Pickling array (shape=(61877,), dtype=int64).\n",
        "Pickling array (shape=(30935,), dtype=int64).\n",
        "Pickling array (shape=(30942,), dtype=int64).\n",
        "Pickling array (shape=(61877, 93), dtype=float64).\n",
        "Pickling array (shape=(61877,), dtype=int64).\n",
        "Pickling array (shape=(30942,), dtype=int64).\n",
        "Pickling array (shape=(30935,), dtype=int64).\n",
        "Pickling array (shape=(61877, 93), dtype=float64).\n",
        "Pickling array (shape=(61877,), dtype=int64).\n",
        "Pickling array (shape=(30935,), dtype=int64).\n",
        "Pickling array (shape=(30942,), dtype=int64).\n",
        "Pickling array (shape=(61877, 93), dtype=float64).\n",
        "Pickling array (shape=(61877,), dtype=int64).\n",
        "Pickling array (shape=(30942,), dtype=int64).\n",
        "Pickling array (shape=(30935,), dtype=int64).\n",
        "Pickling array (shape=(61877, 93), dtype=float64).\n",
        "Pickling array (shape=(61877,), dtype=int64).\n",
        "Pickling array (shape=(30935,), dtype=int64).\n",
        "Pickling array (shape=(30942,), dtype=int64).\n",
        "[Parallel(n_jobs=4)]: Done   4 jobs       | elapsed: 26.0min\n",
        "Pickling array (shape=(61877, 93), dtype=float64).\n",
        "Pickling array (shape=(61877,), dtype=int64).\n",
        "Pickling array (shape=(30942,), dtype=int64).\n",
        "Pickling array (shape=(30935,), dtype=int64).\n",
        "[Parallel(n_jobs=4)]: Done   3 jobs       | elapsed: 26.3min\n",
        "Pickling array (shape=(61877, 93), dtype=float64).\n",
        "Pickling array (shape=(61877,), dtype=int64).\n",
        "Pickling array (shape=(30935,), dtype=int64).\n",
        "Pickling array (shape=(30942,), dtype=int64).\n",
        "[Parallel(n_jobs=4)]: Done   1 jobs       | elapsed: 30.9min\n",
        "Pickling array (shape=(61877, 93), dtype=float64).\n",
        "Pickling array (shape=(61877,), dtype=int64).\n",
        "Pickling array (shape=(30942,), dtype=int64).\n",
        "Pickling array (shape=(30935,), dtype=int64).\n",
        "[Parallel(n_jobs=4)]: Done   2 jobs       | elapsed: 31.9min\n",
        "Pickling array (shape=(61877, 93), dtype=float64).\n",
        "Pickling array (shape=(61877,), dtype=int64).\n",
        "Pickling array (shape=(30935,), dtype=int64).\n",
        "Pickling array (shape=(30942,), dtype=int64).\n",
        "[Parallel(n_jobs=4)]: Done   5 jobs       | elapsed: 43.0min\n",
        "Pickling array (shape=(61877, 93), dtype=float64).\n",
        "Pickling array (shape=(61877,), dtype=int64).\n",
        "Pickling array (shape=(30942,), dtype=int64).\n",
        "Pickling array (shape=(30935,), dtype=int64).\n",
        "[Parallel(n_jobs=4)]: Done   6 jobs       | elapsed: 43.5min\n",
        "Pickling array (shape=(61877, 93), dtype=float64).\n",
        "Pickling array (shape=(61877,), dtype=int64).\n",
        "Pickling array (shape=(30935,), dtype=int64).\n",
        "Pickling array (shape=(30942,), dtype=int64).\n",
        "[Parallel(n_jobs=4)]: Done   7 jobs       | elapsed: 48.4min\n",
        "Pickling array (shape=(61877, 93), dtype=float64).\n",
        "Pickling array (shape=(61877,), dtype=int64).\n",
        "Pickling array (shape=(30942,), dtype=int64).\n",
        "Pickling array (shape=(30935,), dtype=int64).\n",
        "[Parallel(n_jobs=4)]: Done   8 out of  14 | elapsed: 50.0min remaining: 37.5min\n",
        "Pickling array (shape=(61877, 93), dtype=float64).\n",
        "Pickling array (shape=(61877,), dtype=int64).\n",
        "Pickling array (shape=(30935,), dtype=int64).\n",
        "Pickling array (shape=(30942,), dtype=int64).\n",
        "[Parallel(n_jobs=4)]: Done   9 out of  14 | elapsed: 61.5min remaining: 34.2min\n",
        "Pickling array (shape=(61877, 93), dtype=float64).\n",
        "Pickling array (shape=(61877,), dtype=int64).\n",
        "Pickling array (shape=(30942,), dtype=int64).\n",
        "Pickling array (shape=(30935,), dtype=int64).\n",
        "[Parallel(n_jobs=4)]: Done  10 out of  14 | elapsed: 62.6min remaining: 25.0min\n",
        "[Parallel(n_jobs=4)]: Done  11 out of  14 | elapsed: 65.9min remaining: 18.0min\n",
        "[Parallel(n_jobs=4)]: Done  12 out of  14 | elapsed: 67.4min remaining: 11.2min\n",
        "[Parallel(n_jobs=4)]: Done  13 out of  14 | elapsed: 73.4min remaining:  5.6min\n",
        "[Parallel(n_jobs=4)]: Done  14 out of  14 | elapsed: 73.6min finished\n",
        "[CV] C=0.1 ...........................................................\n",
        "[CV] C=0.1 ...........................................................\n",
        "[CV] C=0.01 ..........................................................\n",
        "[CV] C=0.01 ..........................................................\n",
        "[CV] ................................. C=0.1, score=-0.745633 -25.3min[CV] ................................. C=0.1, score=-0.710276 -25.6min[CV] ................................ C=0.01, score=-0.820091 -30.1min[CV] ................................ C=0.01, score=-0.737409 -31.1min\n",
        "\n",
        "\n",
        "\n",
        "[CV] C=1.0 ...........................................................[CV] C=1.0 ...........................................................[CV] C=10.0 ..........................................................[CV] C=10.0 ..........................................................\n",
        "\n",
        "\n",
        "\n",
        "[CV] ................................. C=1.0, score=-1.171015 -16.9min[CV] ................................. C=1.0, score=-1.172866 -17.2min[CV] ................................ C=10.0, score=-1.420501 -17.5min[CV] ................................ C=10.0, score=-1.405535 -18.1min\n",
        "\n",
        "\n",
        "\n",
        "[CV] C=100.0 .........................................................[CV] C=100.0 .........................................................[CV] C=1000.0 ........................................................[CV] C=1000.0 ........................................................\n",
        "\n",
        "\n",
        "\n",
        "[CV] ............................... C=100.0, score=-1.382152 -18.5min[CV] ............................... C=100.0, score=-1.457830 -19.0min[CV] .............................. C=1000.0, score=-1.410844 -17.5min[CV] .............................. C=1000.0, score=-1.461723 -17.3min\n",
        "\n",
        "\n",
        "\n",
        "[CV] C=10000.0 .......................................................[CV] C=10000.0 .......................................................\n",
        "\n",
        "[CV] ............................. C=10000.0, score=-1.434308 -11.9min[CV] ............................. C=10000.0, score=-1.483180 -11.0min\n",
        "\n"
       ]
      },
      {
       "output_type": "stream",
       "stream": "stderr",
       "text": [
        "/usr/local/lib/python2.7/dist-packages/sklearn/svm/base.py:209: ConvergenceWarning: Solver terminated early (max_iter=2000).  Consider pre-processing your data with StandardScaler or MinMaxScaler.\n",
        "  % self.max_iter, ConvergenceWarning)\n",
        "/usr/local/lib/python2.7/dist-packages/sklearn/svm/base.py:209: ConvergenceWarning: Solver terminated early (max_iter=2000).  Consider pre-processing your data with StandardScaler or MinMaxScaler.\n",
        "  % self.max_iter, ConvergenceWarning)\n",
        "/usr/local/lib/python2.7/dist-packages/sklearn/svm/base.py:209: ConvergenceWarning: Solver terminated early (max_iter=2000).  Consider pre-processing your data with StandardScaler or MinMaxScaler.\n",
        "  % self.max_iter, ConvergenceWarning)\n",
        "/usr/local/lib/python2.7/dist-packages/sklearn/svm/base.py:209: ConvergenceWarning: Solver terminated early (max_iter=2000).  Consider pre-processing your data with StandardScaler or MinMaxScaler.\n",
        "  % self.max_iter, ConvergenceWarning)\n",
        "/usr/local/lib/python2.7/dist-packages/sklearn/svm/base.py:209: ConvergenceWarning: Solver terminated early (max_iter=2000).  Consider pre-processing your data with StandardScaler or MinMaxScaler.\n",
        "  % self.max_iter, ConvergenceWarning)\n"
       ]
      },
      {
       "metadata": {},
       "output_type": "pyout",
       "prompt_number": 11,
       "text": [
        "GridSearchCV(cv=2, error_score='raise',\n",
        "       estimator=SVC(C=1.0, cache_size=200, class_weight=None, coef0=0.0, degree=3, gamma=0.0,\n",
        "  kernel='linear', max_iter=2000, probability=True, random_state=None,\n",
        "  shrinking=True, tol=0.001, verbose=0),\n",
        "       fit_params={}, iid=True, loss_func=None, n_jobs=4,\n",
        "       param_grid={'C': array([  1.00000e-02,   1.00000e-01,   1.00000e+00,   1.00000e+01,\n",
        "         1.00000e+02,   1.00000e+03,   1.00000e+04])},\n",
        "       pre_dispatch='2*n_jobs', refit=True, score_func=None,\n",
        "       scoring='log_loss', verbose=100)"
       ]
      }
     ],
     "prompt_number": 11
    },
    {
     "cell_type": "code",
     "collapsed": false,
     "input": [
      "print clf.best_params_"
     ],
     "language": "python",
     "metadata": {},
     "outputs": [
      {
       "output_type": "stream",
       "stream": "stdout",
       "text": [
        "{'C': 0.10000000000000001}\n"
       ]
      }
     ],
     "prompt_number": 12
    },
    {
     "cell_type": "code",
     "collapsed": false,
     "input": [
      "for params, mean_score, scores in clf.grid_scores_:\n",
      "    print \"%0.3f (+/-%0.03f) for %r\" % (mean_score, scores.std() * 2, params)"
     ],
     "language": "python",
     "metadata": {},
     "outputs": [
      {
       "output_type": "stream",
       "stream": "stdout",
       "text": [
        "-0.779 (+/-0.083) for {'C': 0.01}\n",
        "-0.728 (+/-0.035) for {'C': 0.10000000000000001}\n",
        "-1.172 (+/-0.002) for {'C': 1.0}\n",
        "-1.413 (+/-0.015) for {'C': 10.0}\n",
        "-1.420 (+/-0.076) for {'C': 100.0}\n",
        "-1.436 (+/-0.051) for {'C': 1000.0}\n",
        "-1.459 (+/-0.049) for {'C': 10000.0}\n"
       ]
      }
     ],
     "prompt_number": 13
    },
    {
     "cell_type": "code",
     "collapsed": false,
     "input": [
      "# output_clf = svm.SVC(C=100.0, gamma=0.01)"
     ],
     "language": "python",
     "metadata": {},
     "outputs": [],
     "prompt_number": 14
    },
    {
     "cell_type": "code",
     "collapsed": false,
     "input": [],
     "language": "python",
     "metadata": {},
     "outputs": [],
     "prompt_number": 14
    },
    {
     "cell_type": "code",
     "collapsed": false,
     "input": [
      "#filter_df = np.transpose(filter_df).reshape(49502,) -1 # this account for the starting at 1\n",
      "\n",
      "# cv_set\n",
      "\n",
      "# def load_team_train_and_cv_set():\n",
      "#     new_df = pd.read_csv('/home/harry/Documents/git/kaggle/otto/ml_004/train.csv')\n",
      "#     filter_df = pd.read_csv('/home/harry/Documents/git/kaggle/otto/ml_004/trainkey.csv')\n",
      "#     training_set = new_df[new_df['id'].isin(filter_df['Train'])]\n",
      "#     cv_set = new_df[~new_df['id'].isin(filter_df['Train'])]\n",
      "#     return (training_set, cv_set)"
     ],
     "language": "python",
     "metadata": {},
     "outputs": [],
     "prompt_number": 15
    },
    {
     "cell_type": "code",
     "collapsed": false,
     "input": [],
     "language": "python",
     "metadata": {},
     "outputs": [],
     "prompt_number": 15
    },
    {
     "cell_type": "code",
     "collapsed": false,
     "input": [],
     "language": "python",
     "metadata": {},
     "outputs": [],
     "prompt_number": 15
    },
    {
     "cell_type": "code",
     "collapsed": false,
     "input": [],
     "language": "python",
     "metadata": {},
     "outputs": [],
     "prompt_number": 15
    }
   ],
   "metadata": {}
  }
 ]
}