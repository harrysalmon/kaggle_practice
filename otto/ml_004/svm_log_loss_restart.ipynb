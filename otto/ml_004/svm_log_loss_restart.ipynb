{
 "metadata": {
  "name": "",
  "signature": "sha256:53c09902a00a70cd0855fc257ac781795b1159bb1c7f6fbec399c30eb697c43e"
 },
 "nbformat": 3,
 "nbformat_minor": 0,
 "worksheets": [
  {
   "cells": [
    {
     "cell_type": "code",
     "collapsed": false,
     "input": [
      "from sklearn import datasets\n",
      "import numpy as np\n",
      "import scipy as sp\n",
      "import pandas as pd \n",
      "import time\n",
      "from sklearn import linear_model, svm, preprocessing\n",
      "from sklearn.learning_curve import learning_curve\n",
      "from sklearn.cross_validation import StratifiedKFold\n",
      "from sklearn.grid_search import GridSearchCV\n",
      "import matplotlib.pyplot as plt"
     ],
     "language": "python",
     "metadata": {},
     "outputs": [],
     "prompt_number": 35
    },
    {
     "cell_type": "code",
     "collapsed": false,
     "input": [
      "def logloss(act, pred):\n",
      "    \"\"\" Vectorised computation of logloss \"\"\"\n",
      "    \n",
      "    #cap in official Kaggle implementation, \n",
      "    #per forums/t/1576/r-code-for-logloss\n",
      "    epsilon = 1e-15\n",
      "    pred = sp.maximum(epsilon, pred)\n",
      "    pred = sp.minimum(1-epsilon, pred)\n",
      "    \n",
      "    #compute logloss function (vectorised)\n",
      "    ll = sum(   act*sp.log(pred) + \n",
      "                sp.subtract(1,act)*sp.log(sp.subtract(1,pred)))\n",
      "    ll = ll * -1.0/len(act)\n",
      "    return ll"
     ],
     "language": "python",
     "metadata": {},
     "outputs": [],
     "prompt_number": 36
    },
    {
     "cell_type": "code",
     "collapsed": false,
     "input": [
      "def loglossmulti(act, pred):\n",
      "    \"\"\" Vectorised computation of logloss for multi class problems \"\"\"\n",
      "    \n",
      "    #cap in official Kaggle implementation, \n",
      "    #per forums/t/1576/r-code-for-logloss\n",
      "    epsilon = 1e-15\n",
      "    pred = sp.maximum(epsilon, pred)\n",
      "    pred = sp.minimum(1-epsilon, pred)\n",
      "    \n",
      "    #compute logloss function (vectorised)\n",
      "    ll = sum(sum(   act*sp.log(pred) ))\n",
      "    ll = ll * -1.0/len(act)\n",
      "    return ll"
     ],
     "language": "python",
     "metadata": {},
     "outputs": [],
     "prompt_number": 37
    },
    {
     "cell_type": "code",
     "collapsed": false,
     "input": [
      "def vector_to_binary_matrix(v, num_classes):\n",
      "    output = np.zeros(shape=(np.shape(v)[0],num_classes), dtype='int')\n",
      "    \n",
      "    for i in range(0,num_classes):\n",
      "        output[:,i] = v == i+1\n",
      "\n",
      "    #print output[0:20,:]\n",
      "    return output"
     ],
     "language": "python",
     "metadata": {},
     "outputs": [],
     "prompt_number": 38
    },
    {
     "cell_type": "code",
     "collapsed": false,
     "input": [
      "data=pd.read_csv('X_y_shuf.csv').as_matrix()\n",
      "X = data[:,0:93]\n",
      "y = data[:,93]\n",
      "\n",
      "means = np.mean(X,0) # columns mean\n",
      "means_array = means*np.ones(shape=(np.shape(X)[0],1))\n",
      "stds = np.std(X,0) # columns std\n",
      "stds_array = stds*np.ones(shape=(np.shape(X[:,0:93])[0],1))\n",
      "X = (X - means_array) / stds_array\n",
      "# This converts the vecotr into a matrix and concatenates it\n",
      "y = y.reshape(np.shape(y)[0],1)\n",
      "data = np.concatenate([X, y],axis=1)\n",
      "print data\n",
      "\n"
     ],
     "language": "python",
     "metadata": {},
     "outputs": [
      {
       "output_type": "stream",
       "stream": "stdout",
       "text": [
        "[[ 1.71327884 -0.2101078  -0.30716818 ..., -0.38692601 -0.104964    3.        ]\n",
        " [-0.25351026 -0.2101078  -0.30716818 ..., -0.38692601 -0.104964    5.        ]\n",
        " [ 0.40208611  0.58856773 -0.30716818 ..., -0.38692601 -0.104964    1.        ]\n",
        " ..., \n",
        " [-0.25351026 -0.2101078  -0.30716818 ..., -0.38692601 -0.104964    2.        ]\n",
        " [-0.25351026 -0.2101078  -0.30716818 ...,  0.63100855 -0.104964    8.        ]\n",
        " [-0.25351026  0.58856773 -0.30716818 ..., -0.38692601 -0.104964    8.        ]]\n"
       ]
      }
     ],
     "prompt_number": 39
    },
    {
     "cell_type": "code",
     "collapsed": false,
     "input": [
      "C_range = 10. ** np.arange(-2, 5)\n",
      "gamma_range = 10. ** np.arange(-4, 3)\n",
      "param_grid = dict(gamma=gamma_range, C=C_range)\n",
      "print param_grid"
     ],
     "language": "python",
     "metadata": {},
     "outputs": [
      {
       "output_type": "stream",
       "stream": "stdout",
       "text": [
        "{'C': array([  1.00000000e-02,   1.00000000e-01,   1.00000000e+00,\n",
        "         1.00000000e+01,   1.00000000e+02,   1.00000000e+03,\n",
        "         1.00000000e+04]), 'gamma': array([  1.00000000e-04,   1.00000000e-03,   1.00000000e-02,\n",
        "         1.00000000e-01,   1.00000000e+00,   1.00000000e+01,\n",
        "         1.00000000e+02])}\n"
       ]
      }
     ],
     "prompt_number": 40
    },
    {
     "cell_type": "code",
     "collapsed": false,
     "input": [
      "clf = GridSearchCV(svm.SVC(max_iter=10000, probability=True, verbose=1), param_grid=param_grid, scoring='log_loss', cv=2)"
     ],
     "language": "python",
     "metadata": {},
     "outputs": []
    },
    {
     "cell_type": "code",
     "collapsed": false,
     "input": [
      "clf.fit(X,y[:,0])"
     ],
     "language": "python",
     "metadata": {},
     "outputs": []
    },
    {
     "cell_type": "code",
     "collapsed": false,
     "input": [
      "print clf.best_params_"
     ],
     "language": "python",
     "metadata": {},
     "outputs": []
    },
    {
     "cell_type": "code",
     "collapsed": false,
     "input": [
      "for params, mean_score, scores in clf.grid_scores_:\n",
      "    print \"%0.3f (+/-%0.03f) for %r\" % (mean_score, scores.std() * 2, params)"
     ],
     "language": "python",
     "metadata": {},
     "outputs": []
    }
   ],
   "metadata": {}
  }
 ]
}