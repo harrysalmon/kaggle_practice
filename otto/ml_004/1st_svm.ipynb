{
 "metadata": {
  "name": "",
  "signature": "sha256:14bd58d10ef70607a6d0f444f6ad90f8584c7544668cc9b69a41f2bd9085d924"
 },
 "nbformat": 3,
 "nbformat_minor": 0,
 "worksheets": [
  {
   "cells": [
    {
     "cell_type": "code",
     "collapsed": false,
     "input": [
      "import numpy as np\n",
      "import scipy as sp\n",
      "import pandas as pd \n",
      "import time\n",
      "from sklearn import linear_model, svm, preprocessing\n",
      "from sklearn.learning_curve import learning_curve\n",
      "import matplotlib.pyplot as plt"
     ],
     "language": "python",
     "metadata": {},
     "outputs": [],
     "prompt_number": 29
    },
    {
     "cell_type": "code",
     "collapsed": false,
     "input": [],
     "language": "python",
     "metadata": {},
     "outputs": [],
     "prompt_number": 1
    },
    {
     "cell_type": "code",
     "collapsed": false,
     "input": [],
     "language": "python",
     "metadata": {},
     "outputs": [],
     "prompt_number": 1
    },
    {
     "cell_type": "code",
     "collapsed": false,
     "input": [
      "    "
     ],
     "language": "python",
     "metadata": {},
     "outputs": [],
     "prompt_number": 1
    },
    {
     "cell_type": "code",
     "collapsed": false,
     "input": [
      "# load training data\n",
      "X_y_train = np.genfromtxt('/home/harry/Documents/git/kaggle/otto/ml_004/X_y_train.csv', delimiter=',', dtype='float32')\n",
      "X_train = X_y_train[:,0:93]\n",
      "y_train = X_y_train[:,93]"
     ],
     "language": "python",
     "metadata": {},
     "outputs": [],
     "prompt_number": 2
    },
    {
     "cell_type": "code",
     "collapsed": false,
     "input": [
      "scaler = preprocessing.StandardScaler().fit(X_train)\n",
      "X_train = scaler.transform(X_train)"
     ],
     "language": "python",
     "metadata": {},
     "outputs": [],
     "prompt_number": 3
    },
    {
     "cell_type": "code",
     "collapsed": false,
     "input": [
      "#np.savetxt('/home/harry/Documents/git/kaggle/otto/ml_004/y_train_s.csv', y_train, delimiter=',', fmt='%d')"
     ],
     "language": "python",
     "metadata": {},
     "outputs": [],
     "prompt_number": 4
    },
    {
     "cell_type": "code",
     "collapsed": false,
     "input": [
      "# visualise first lines of data\n",
      "print X_train[0:2,:]#http://localhost:8888/notebooks/otto_log_reg.ipynb"
     ],
     "language": "python",
     "metadata": {},
     "outputs": [
      {
       "output_type": "stream",
       "stream": "stdout",
       "text": [
        "[[-0.25335416 -0.20793186 -0.30744803 -0.28015968 -0.16049263 -0.11945356\n",
        "  -0.1873523  -0.29276192 -0.29141653 -0.24148998 -0.41175914 -0.25277528\n",
        "  -0.237967   -0.53668976 -0.33170754 -0.63499165 -0.24750836 -0.42893568\n",
        "  -0.11958762 -0.32809636  1.1604141  -0.50504684 -0.18123662 -0.56800735\n",
        "   0.20108138 -0.32706073 -0.24197914 -0.28863648 -0.14580232 -0.0904063\n",
        "  -0.17022176 -0.42844939 -0.53032035 -0.28072685 -0.20992647 -0.27668983\n",
        "  -0.34701389 -0.36602265 -0.14744453  0.4134385  -0.28373036 -0.35604718\n",
        "  -0.26401818 -0.41455096 -0.09166624 -0.27350938 -0.17299066 -0.61774611\n",
        "  -0.25165424 -0.18701123 -0.10514797 -0.2028503  -0.21995065 -0.50382304\n",
        "  -0.32243612 -0.15836388 -0.28541225 -0.17559899 -0.15108603 -0.34121311\n",
        "  -0.2359467  -0.44478104 -0.17562236 -0.36852127 -0.29226601 -0.41631171\n",
        "  -0.18134965 -0.22434767 -0.19841608 -0.46025556 -0.27755558 -0.35593197\n",
        "  -0.1005526  -0.1568754  -0.22808769 -0.25625226 -0.13902928 -0.13131721\n",
        "  -0.23354113 -0.3108905  -0.17130984 -0.22441959 -0.20307121 -0.06121032\n",
        "  -0.27784118 -0.04692749 -0.2521922  -0.41202462 -0.30011195 -0.17909592\n",
        "  -0.12965041  0.63083953 -0.10538381]\n",
        " [ 1.71035492 -0.20793186 -0.30744803 -0.28015968 -0.16049263 -0.11945356\n",
        "  -0.1873523  -0.29276192  2.57911658 -0.24148998 -0.41175914 -0.25277528\n",
        "  -0.237967   -0.53668976  0.44776922 -0.63499165 -0.24750836 -0.42893568\n",
        "  -0.11958762 -0.32809636 -0.29572952 -0.50504684 -0.18123662  0.92898971\n",
        "  -0.22839618 -0.32706073 -0.24197914 -0.28863648 -0.14580232 -0.0904063\n",
        "  -0.17022176  3.25488067 -0.53032035 -0.28072685 -0.20992647 -0.27668983\n",
        "  -0.34701389 -0.36602265 -0.14744453 -0.50153065 -0.28373036 -0.35604718\n",
        "  -0.26401818 -0.41455096 -0.09166624 -0.27350938 -0.17299066 -0.2272753\n",
        "  -0.25165424 -0.18701123 -0.10514797 -0.2028503  -0.21995065 -0.50382304\n",
        "  -0.32243612 -0.15836388 -0.28541225 -0.17559899 -0.15108603 -0.34121311\n",
        "  -0.2359467  -0.44478104 -0.17562236 -0.07633919 -0.29226601 -0.41631171\n",
        "   0.02056603 -0.22434767 -0.19841608 -0.46025556 -0.27755558 -0.35593197\n",
        "  -0.1005526  -0.1568754   0.08278939 -0.25625226 -0.13902928 -0.13131721\n",
        "  -0.23354113 -0.3108905  -0.17130984 -0.22441959 -0.20307121 -0.06121032\n",
        "  -0.27784118 -0.41942164 -0.2521922  -0.41202462 -0.30011195 -0.17909592\n",
        "  -0.12965041 -0.38679284 -0.10538381]]\n"
       ]
      }
     ],
     "prompt_number": 5
    },
    {
     "cell_type": "code",
     "collapsed": false,
     "input": [
      "print y_train[0:2]"
     ],
     "language": "python",
     "metadata": {},
     "outputs": [
      {
       "output_type": "stream",
       "stream": "stdout",
       "text": [
        "[ 2.  3.]\n"
       ]
      }
     ],
     "prompt_number": 6
    },
    {
     "cell_type": "code",
     "collapsed": false,
     "input": [
      "# using the svm classifier\n",
      "clf = svm.SVC(C=1.0, cache_size=200, class_weight=None, coef0=0.0, degree=3,\n",
      "gamma=0.0, kernel='rbf', max_iter=500, probability=False, random_state=None,\n",
      "shrinking=True, tol=0.001, verbose=True)\n",
      "#SVC()"
     ],
     "language": "python",
     "metadata": {},
     "outputs": [],
     "prompt_number": 19
    },
    {
     "cell_type": "code",
     "collapsed": false,
     "input": [
      "timings = {\n",
      "'fit': \n",
      "    { \n",
      "    'start': time.clock(),\n",
      "    'stop': 0\n",
      "    }, \n",
      "'predict': {\n",
      "    'start': 0,\n",
      "    'stop': 0\n",
      "    }\n",
      "}\n",
      "clf.fit(X_train, y_train)\n",
      "\n",
      "# store the timings of the fit step\n",
      "timings['fit']['stop'] = time.clock()\n",
      "print timings['fit']['stop'] - timings['fit']['start']"
     ],
     "language": "python",
     "metadata": {},
     "outputs": [
      {
       "output_type": "stream",
       "stream": "stdout",
       "text": [
        "[LibSVM]102.735676"
       ]
      },
      {
       "output_type": "stream",
       "stream": "stdout",
       "text": [
        "\n"
       ]
      }
     ],
     "prompt_number": 30
    },
    {
     "cell_type": "code",
     "collapsed": false,
     "input": [
      "# the vector of training predictions\n",
      "timings['predict']['start'] = time.clock()\n",
      "train_predictions = clf.predict(X_train)\n",
      "timings['predict']['stop'] = time.clock()\n",
      "print timings['predict']['stop'] - timings['predict']['start']"
     ],
     "language": "python",
     "metadata": {},
     "outputs": [
      {
       "output_type": "stream",
       "stream": "stdout",
       "text": [
        "98.425218\n"
       ]
      }
     ],
     "prompt_number": 31
    },
    {
     "cell_type": "code",
     "collapsed": false,
     "input": [
      "print train_predictions"
     ],
     "language": "python",
     "metadata": {},
     "outputs": [
      {
       "output_type": "stream",
       "stream": "stdout",
       "text": [
        "[ 4.  7.  5. ...,  6.  9.  4.]\n"
       ]
      }
     ],
     "prompt_number": 32
    },
    {
     "cell_type": "code",
     "collapsed": false,
     "input": [],
     "language": "python",
     "metadata": {},
     "outputs": [],
     "prompt_number": 10
    },
    {
     "cell_type": "code",
     "collapsed": false,
     "input": [
      "# the boolean vector of successful trainging predictions\n",
      "success_vector = train_predictions == y_train\n",
      "training_accuracy = np.mean(success_vector)\n",
      "print np.shape(success_vector) # as a check\n",
      "print training_accuracy"
     ],
     "language": "python",
     "metadata": {},
     "outputs": [
      {
       "output_type": "stream",
       "stream": "stdout",
       "text": [
        "(55000,)\n",
        "0.523363636364\n"
       ]
      }
     ],
     "prompt_number": 34
    },
    {
     "cell_type": "code",
     "collapsed": false,
     "input": [
      "X_y_cv = np.genfromtxt('/home/harry/Documents/git/kaggle/otto/ml_004/X_y_cv.csv', delimiter=',', dtype='float32')\n",
      "X_cv = X_y_cv[:,0:93]\n",
      "X_cv = scaler.transform(X_cv)\n",
      "y_cv = X_y_cv[:,93]"
     ],
     "language": "python",
     "metadata": {},
     "outputs": [],
     "prompt_number": 12
    },
    {
     "cell_type": "code",
     "collapsed": false,
     "input": [
      "# visualise first lines of cv data\n",
      "print X_cv[0:2,:]"
     ],
     "language": "python",
     "metadata": {},
     "outputs": [
      {
       "output_type": "stream",
       "stream": "stdout",
       "text": [
        "[[-0.25335416 -0.20793186 -0.30744803 -0.28015968 -0.16049263 -0.11945356\n",
        "  -0.1873523  -0.29276192 -0.29141653 -0.24148998 -0.41175914 -0.25277528\n",
        "  -0.237967    0.09807047  3.56567645  0.71874267 -0.24750836 -0.42893568\n",
        "  -0.11958762 -0.32809636 -0.29572952  0.18766077 -0.18123662 -0.56800735\n",
        "  -0.65787375 -0.32706073 -0.24197914 -0.28863648 -0.14580232 -0.0904063\n",
        "  -0.17022176 -0.42844939  0.99295193  0.01675642 -0.20992647 -0.27668983\n",
        "  -0.34701389  0.2669757  -0.14744453  0.71842819  0.64925838  0.66656935\n",
        "  -0.26401818  0.32866251 -0.09166624 -0.27350938 -0.17299066 -0.61774611\n",
        "  -0.25165424 -0.18701123 -0.10514797 -0.2028503  -0.21995065  0.22852302\n",
        "  -0.32243612 -0.15836388 -0.28541225 -0.17559899 -0.15108603 -0.34121311\n",
        "  -0.2359467   0.30697697 -0.17562236 -0.36852127 -0.29226601  0.31224704\n",
        "  -0.38326532  1.49061024 -0.19841608  2.64322495 -0.27755558  2.56857896\n",
        "  -0.1005526  -0.1568754  -0.22808769 -0.25625226 -0.13902928 -0.13131721\n",
        "  -0.23354113 -0.3108905  -0.17130984 -0.22441959 -0.20307121 -0.06121032\n",
        "   0.76867747 -0.41942164 -0.2521922  -0.41202462  0.35570106 -0.17909592\n",
        "  -0.12965041  3.6837368  -0.10538381]\n",
        " [ 0.40121549 -0.20793186  0.034154   -0.28015968 -0.16049263 -0.11945356\n",
        "  -0.1873523   0.14543284 -0.29141653  2.5061202  -0.41175914 -0.25277528\n",
        "  -0.237967    0.09807047 -0.33170754  0.26749793 -0.24750836 -0.42893568\n",
        "  -0.11958762 -0.32809636 -0.29572952  0.18766077 -0.18123662 -0.56800735\n",
        "   1.06003654 -0.32706073 -0.24197914 -0.28863648 -0.14580232 -0.0904063\n",
        "  -0.17022176 -0.0191905  -0.53032035 -0.28072685 -0.20992647 -0.27668983\n",
        "  -0.34701389  0.89997405 -0.14744453  0.10844878 -0.28373036 -0.35604718\n",
        "  -0.26401818  2.55830288 -0.09166624 -0.27350938 -0.17299066  0.16319552\n",
        "  -0.25165424 -0.18701123 -0.10514797 -0.2028503   0.77710581 -0.25970769\n",
        "  -0.32243612 -0.15836388 -0.28541225 -0.17559899 -0.15108603 -0.34121311\n",
        "  -0.2359467  -0.44478104 -0.17562236  0.50802493 -0.29226601  1.76936448\n",
        "  -0.585181   -0.22434767 -0.19841608  2.64322495 -0.27755558  0.0618553\n",
        "   0.06504785 -0.1568754  -0.22808769 -0.25625226 -0.13902928 -0.13131721\n",
        "  -0.23354113 -0.3108905  -0.17130984 -0.22441959 -0.20307121 -0.06121032\n",
        "  -0.27784118  0.32556668 -0.2521922   1.95138884 -0.30011195 -0.17909592\n",
        "  -0.12965041 -0.38679284 -0.10538381]]\n"
       ]
      }
     ],
     "prompt_number": 25
    },
    {
     "cell_type": "code",
     "collapsed": false,
     "input": [
      "# get the cross validation accuracy\n",
      "cv_predictions = clf.predict(X_cv)\n",
      "cv_success_vector = cv_predictions == y_cv\n",
      "cv_accuracy = np.mean(cv_success_vector)\n",
      "print np.shape(cv_success_vector) # as a check\n",
      "print cv_accuracy"
     ],
     "language": "python",
     "metadata": {},
     "outputs": [
      {
       "output_type": "stream",
       "stream": "stdout",
       "text": [
        "(6878,)\n",
        "0.50915963943\n"
       ]
      }
     ],
     "prompt_number": 26
    },
    {
     "cell_type": "code",
     "collapsed": false,
     "input": [
      "# output predictions \n",
      "X_test = np.genfromtxt('/home/harry/Documents/git/kaggle/otto/ml_004/test_X_y.csv', delimiter=',', dtype='float32')"
     ],
     "language": "python",
     "metadata": {},
     "outputs": [],
     "prompt_number": 15
    },
    {
     "cell_type": "code",
     "collapsed": false,
     "input": [
      "# visualise first lines of test data\n",
      "print X_test[0:2,:]"
     ],
     "language": "python",
     "metadata": {},
     "outputs": [
      {
       "output_type": "stream",
       "stream": "stdout",
       "text": [
        "[[  0.   0.   0.   0.   0.   0.   0.   0.   0.   3.   0.   0.   0.   3.\n",
        "    2.   1.   0.   0.   0.   0.   0.   0.   0.   5.   3.   1.   1.   0.\n",
        "    0.   0.   0.   0.   1.   0.   0.   1.   0.   1.   0.   1.   0.   0.\n",
        "    0.   0.   0.   0.   0.   0.   0.   0.   0.   0.   0.   0.   0.   0.\n",
        "    0.   0.   0.   0.   0.   0.   0.   3.   0.   0.   0.   0.   1.   1.\n",
        "    0.   1.   0.   0.   0.   0.   0.   0.   0.   0.   0.   0.   0.   0.\n",
        "    0.  11.   1.  20.   0.   0.   0.   0.   0.]\n",
        " [  2.   2.  14.  16.   0.   0.   0.   0.   0.   0.   0.   0.   0.   0.\n",
        "    2.   2.   0.   0.   0.   0.   0.   2.   0.   4.   0.   4.   0.   0.\n",
        "    0.   0.   2.   0.   0.   0.   8.   0.   0.   0.   0.   0.   0.   0.\n",
        "    0.   2.   0.   4.   0.   4.   0.   0.   0.   0.   0.  24.   0.   0.\n",
        "    0.   0.   0.   0.   0.   0.   0.   6.   8.   0.   0.   0.   0.   0.\n",
        "    0.   0.   0.   0.   0.   0.   2.   0.   0.   4.   0.   2.   0.   0.\n",
        "    0.   0.   0.   0.   4.   0.   0.   2.   0.]]\n"
       ]
      }
     ],
     "prompt_number": 16
    },
    {
     "cell_type": "code",
     "collapsed": false,
     "input": [
      "# get the test output\n",
      "num_classes = 9 \n",
      "test_predictions = clf.predict(X_test) # a vector of predictions\n",
      "output = np.zeros(shape=(np.shape(test_predictions)[0],num_classes), dtype='int')\n",
      "for i in range(0,num_classes):\n",
      "    output[:,i] = test_predictions == i+1\n",
      "\n",
      "print output[0:20,:]\n",
      "np.savetxt('/home/harry/Documents/git/kaggle/otto/ml_004/svm_first.csv', output, delimiter=',', fmt='%d')"
     ],
     "language": "python",
     "metadata": {},
     "outputs": [
      {
       "output_type": "stream",
       "stream": "stdout",
       "text": [
        "[[1 0 0 0 0 0 0 0 0]\n",
        " [1 0 0 0 0 0 0 0 0]\n",
        " [1 0 0 0 0 0 0 0 0]\n",
        " [1 0 0 0 0 0 0 0 0]\n",
        " [1 0 0 0 0 0 0 0 0]\n",
        " [1 0 0 0 0 0 0 0 0]\n",
        " [1 0 0 0 0 0 0 0 0]\n",
        " [0 1 0 0 0 0 0 0 0]\n",
        " [0 1 0 0 0 0 0 0 0]\n",
        " [1 0 0 0 0 0 0 0 0]\n",
        " [0 1 0 0 0 0 0 0 0]\n",
        " [1 0 0 0 0 0 0 0 0]\n",
        " [1 0 0 0 0 0 0 0 0]\n",
        " [0 1 0 0 0 0 0 0 0]\n",
        " [0 1 0 0 0 0 0 0 0]\n",
        " [1 0 0 0 0 0 0 0 0]\n",
        " [1 0 0 0 0 0 0 0 0]\n",
        " [1 0 0 0 0 0 0 0 0]\n",
        " [0 0 0 0 1 0 0 0 0]\n",
        " [1 0 0 0 0 0 0 0 0]]\n"
       ]
      }
     ],
     "prompt_number": 17
    },
    {
     "cell_type": "code",
     "collapsed": false,
     "input": [],
     "language": "python",
     "metadata": {},
     "outputs": [],
     "prompt_number": 17
    }
   ],
   "metadata": {}
  }
 ]
}