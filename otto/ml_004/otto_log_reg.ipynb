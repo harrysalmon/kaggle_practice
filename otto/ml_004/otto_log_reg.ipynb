{
 "metadata": {
  "name": "",
  "signature": "sha256:22a0e83467ae237e861a6567a315ae6d0b9eaee237ebfa42f38ab86b78793726"
 },
 "nbformat": 3,
 "nbformat_minor": 0,
 "worksheets": [
  {
   "cells": [
    {
     "cell_type": "code",
     "collapsed": false,
     "input": [
      "import numpy as np\n",
      "import scipy as sp\n",
      "import pandas as pd \n",
      "from sklearn import linear_model\n",
      "import matplotlib.pyplot as plt"
     ],
     "language": "python",
     "metadata": {},
     "outputs": [],
     "prompt_number": 50
    },
    {
     "cell_type": "code",
     "collapsed": false,
     "input": [],
     "language": "python",
     "metadata": {},
     "outputs": [],
     "prompt_number": 51
    },
    {
     "cell_type": "code",
     "collapsed": false,
     "input": [
      "\n",
      "    "
     ],
     "language": "python",
     "metadata": {},
     "outputs": [],
     "prompt_number": 67
    },
    {
     "cell_type": "code",
     "collapsed": false,
     "input": [
      "# load training data\n",
      "X_y_train = np.genfromtxt('/home/harry/Documents/git/kaggle/otto/ml_004/X_y_train.csv', delimiter=',', dtype='float32')\n",
      "X_train = X_y_train[:,0:93]\n",
      "y_train = X_y_train[:,93]"
     ],
     "language": "python",
     "metadata": {},
     "outputs": [],
     "prompt_number": 52
    },
    {
     "cell_type": "code",
     "collapsed": false,
     "input": [
      "np.savetxt('/home/harry/Documents/git/kaggle/otto/ml_004/y_train_s.csv', y_train, delimiter=',', fmt='%d')"
     ],
     "language": "python",
     "metadata": {},
     "outputs": [],
     "prompt_number": 53
    },
    {
     "cell_type": "code",
     "collapsed": false,
     "input": [
      "# visualise first lines of data\n",
      "print X_train[0:2,:]#http://localhost:8888/notebooks/otto_log_reg.ipynb"
     ],
     "language": "python",
     "metadata": {},
     "outputs": [
      {
       "output_type": "stream",
       "stream": "stdout",
       "text": [
        "[[  0.   0.   0.   0.   0.   0.   0.   0.   0.   0.   0.   0.   0.   0.\n",
        "    0.   0.   0.   0.   0.   0.   1.   0.   0.   0.   2.   0.   0.   0.\n",
        "    0.   0.   0.   0.   0.   0.   0.   0.   0.   0.   0.   3.   0.   0.\n",
        "    0.   0.   0.   0.   0.   0.   0.   0.   0.   0.   0.   0.   0.   0.\n",
        "    0.   0.   0.   0.   0.   0.   0.   0.   0.   0.   2.   0.   0.   0.\n",
        "    0.   0.   0.   0.   0.   0.   0.   0.   0.   0.   0.   0.   0.   0.\n",
        "    0.   1.   0.   0.   0.   0.   0.   1.   0.]\n",
        " [  3.   0.   0.   0.   0.   0.   0.   0.  10.   0.   0.   0.   0.   0.\n",
        "    3.   0.   0.   0.   0.   0.   0.   0.   0.   7.   1.   0.   0.   0.\n",
        "    0.   0.   0.   9.   0.   0.   0.   0.   0.   0.   0.   0.   0.   0.\n",
        "    0.   0.   0.   0.   0.   1.   0.   0.   0.   0.   0.   0.   0.   0.\n",
        "    0.   0.   0.   0.   0.   0.   0.   1.   0.   0.   3.   0.   0.   0.\n",
        "    0.   0.   0.   0.   1.   0.   0.   0.   0.   0.   0.   0.   0.   0.\n",
        "    0.   0.   0.   0.   0.   0.   0.   0.   0.]]\n"
       ]
      }
     ],
     "prompt_number": 54
    },
    {
     "cell_type": "code",
     "collapsed": false,
     "input": [
      "print y_train[0:2]"
     ],
     "language": "python",
     "metadata": {},
     "outputs": [
      {
       "output_type": "stream",
       "stream": "stdout",
       "text": [
        "[ 2.  3.]\n"
       ]
      }
     ],
     "prompt_number": 55
    },
    {
     "cell_type": "code",
     "collapsed": false,
     "input": [
      "# logistic classifier, C works similarly to 1/lambda\n",
      "logistic_classifier = linear_model.LogisticRegression(C=100000, solver='lbfgs', max_iter='500', )\n"
     ],
     "language": "python",
     "metadata": {},
     "outputs": [],
     "prompt_number": 56
    },
    {
     "cell_type": "code",
     "collapsed": false,
     "input": [
      "logistic_classifier.fit(X_train, y_train)"
     ],
     "language": "python",
     "metadata": {},
     "outputs": [
      {
       "metadata": {},
       "output_type": "pyout",
       "prompt_number": 57,
       "text": [
        "LogisticRegression(C=100000, class_weight=None, dual=False,\n",
        "          fit_intercept=True, intercept_scaling=1, max_iter='500',\n",
        "          multi_class='ovr', penalty='l2', random_state=None,\n",
        "          solver='lbfgs', tol=0.0001, verbose=0)"
       ]
      }
     ],
     "prompt_number": 57
    },
    {
     "cell_type": "code",
     "collapsed": false,
     "input": [
      "# the vector of training predictions\n",
      "train_predictions = logistic_classifier.predict(X_train) "
     ],
     "language": "python",
     "metadata": {},
     "outputs": [],
     "prompt_number": 58
    },
    {
     "cell_type": "code",
     "collapsed": false,
     "input": [],
     "language": "python",
     "metadata": {},
     "outputs": [
      {
       "output_type": "stream",
       "stream": "stdout",
       "text": [
        "nan\n"
       ]
      }
     ],
     "prompt_number": 69
    },
    {
     "cell_type": "code",
     "collapsed": false,
     "input": [
      "# the boolean vector of successful trainging predictions\n",
      "success_vector = train_predictions == y_train\n",
      "training_accuracy = np.mean(success_vector)\n",
      "print np.shape(success_vector) # as a check\n",
      "print training_accuracy"
     ],
     "language": "python",
     "metadata": {},
     "outputs": [
      {
       "output_type": "stream",
       "stream": "stdout",
       "text": [
        "(55000,)\n",
        "0.7576\n"
       ]
      }
     ],
     "prompt_number": 60
    },
    {
     "cell_type": "code",
     "collapsed": false,
     "input": [
      "X_y_cv = np.genfromtxt('/home/harry/Documents/git/kaggle/otto/ml_004/X_y_cv.csv', delimiter=',', dtype='float32')\n",
      "X_cv = X_y_cv[:,0:93]\n",
      "y_cv = X_y_cv[:,93]"
     ],
     "language": "python",
     "metadata": {},
     "outputs": [],
     "prompt_number": 61
    },
    {
     "cell_type": "code",
     "collapsed": false,
     "input": [
      "# visualise first lines of cv data\n",
      "print X_cv[0:2,:]"
     ],
     "language": "python",
     "metadata": {},
     "outputs": [
      {
       "output_type": "stream",
       "stream": "stdout",
       "text": [
        "[[  0.   0.   0.   0.   0.   0.   0.   0.   0.   0.   0.   0.   0.   2.\n",
        "   15.   3.   0.   0.   0.   0.   0.   1.   0.   0.   0.   0.   0.   0.\n",
        "    0.   0.   0.   0.   2.   1.   0.   0.   0.   1.   0.   4.   1.   2.\n",
        "    0.   1.   0.   0.   0.   0.   0.   0.   0.   0.   0.   3.   0.   0.\n",
        "    0.   0.   0.   0.   0.   2.   0.   0.   0.   1.   1.   3.   0.   6.\n",
        "    0.   7.   0.   0.   0.   0.   0.   0.   0.   0.   0.   0.   0.   0.\n",
        "    2.   0.   0.   0.   1.   0.   0.   4.   0.]\n",
        " [  1.   0.   1.   0.   0.   0.   0.   1.   0.   3.   0.   0.   0.   2.\n",
        "    0.   2.   0.   0.   0.   0.   0.   1.   0.   0.   4.   0.   0.   0.\n",
        "    0.   0.   0.   1.   0.   0.   0.   0.   0.   2.   0.   2.   0.   0.\n",
        "    0.   4.   0.   0.   0.   2.   0.   0.   0.   0.   2.   1.   0.   0.\n",
        "    0.   0.   0.   0.   0.   0.   0.   3.   0.   3.   0.   0.   0.   6.\n",
        "    0.   1.   1.   0.   0.   0.   0.   0.   0.   0.   0.   0.   0.   0.\n",
        "    0.   2.   0.   5.   0.   0.   0.   0.   0.]]\n"
       ]
      }
     ],
     "prompt_number": 62
    },
    {
     "cell_type": "code",
     "collapsed": false,
     "input": [
      "# get the cross validation accuracy\n",
      "cv_predictions = logistic_classifier.predict(X_cv)\n",
      "cv_success_vector = cv_predictions == y_cv\n",
      "cv_accuracy = np.mean(cv_success_vector)\n",
      "print np.shape(cv_success_vector) # as a check\n",
      "print cv_accuracy"
     ],
     "language": "python",
     "metadata": {},
     "outputs": [
      {
       "output_type": "stream",
       "stream": "stdout",
       "text": [
        "(6878,)\n",
        "0.758941552777\n"
       ]
      }
     ],
     "prompt_number": 63
    },
    {
     "cell_type": "code",
     "collapsed": false,
     "input": [
      "# output predictions \n",
      "X_test = np.genfromtxt('/home/harry/Documents/git/kaggle/otto/ml_004/test_X_y.csv', delimiter=',', dtype='float32')"
     ],
     "language": "python",
     "metadata": {},
     "outputs": [],
     "prompt_number": 64
    },
    {
     "cell_type": "code",
     "collapsed": false,
     "input": [
      "# visualise first lines of test data\n",
      "print X_test[0:2,:]"
     ],
     "language": "python",
     "metadata": {},
     "outputs": [
      {
       "output_type": "stream",
       "stream": "stdout",
       "text": [
        "[[  0.   0.   0.   0.   0.   0.   0.   0.   0.   3.   0.   0.   0.   3.\n",
        "    2.   1.   0.   0.   0.   0.   0.   0.   0.   5.   3.   1.   1.   0.\n",
        "    0.   0.   0.   0.   1.   0.   0.   1.   0.   1.   0.   1.   0.   0.\n",
        "    0.   0.   0.   0.   0.   0.   0.   0.   0.   0.   0.   0.   0.   0.\n",
        "    0.   0.   0.   0.   0.   0.   0.   3.   0.   0.   0.   0.   1.   1.\n",
        "    0.   1.   0.   0.   0.   0.   0.   0.   0.   0.   0.   0.   0.   0.\n",
        "    0.  11.   1.  20.   0.   0.   0.   0.   0.]\n",
        " [  2.   2.  14.  16.   0.   0.   0.   0.   0.   0.   0.   0.   0.   0.\n",
        "    2.   2.   0.   0.   0.   0.   0.   2.   0.   4.   0.   4.   0.   0.\n",
        "    0.   0.   2.   0.   0.   0.   8.   0.   0.   0.   0.   0.   0.   0.\n",
        "    0.   2.   0.   4.   0.   4.   0.   0.   0.   0.   0.  24.   0.   0.\n",
        "    0.   0.   0.   0.   0.   0.   0.   6.   8.   0.   0.   0.   0.   0.\n",
        "    0.   0.   0.   0.   0.   0.   2.   0.   0.   4.   0.   2.   0.   0.\n",
        "    0.   0.   0.   0.   4.   0.   0.   2.   0.]]\n"
       ]
      }
     ],
     "prompt_number": 65
    },
    {
     "cell_type": "code",
     "collapsed": false,
     "input": [
      "# get the test output\n",
      "num_classes = 9 \n",
      "test_predictions = logistic_classifier.predict(X_test) # a vector of predictions\n",
      "output = np.zeros(shape=(np.shape(test_predictions)[0],num_classes), dtype='int')\n",
      "for i in range(0,num_classes):\n",
      "    output[:,i] = test_predictions == i+1\n",
      "\n",
      "print output[0:20,:]\n",
      "np.savetxt('/home/harry/Documents/git/kaggle/otto/ml_004/logistic_predictions.csv', output, delimiter=',', fmt='%d')"
     ],
     "language": "python",
     "metadata": {},
     "outputs": [
      {
       "output_type": "stream",
       "stream": "stdout",
       "text": [
        "[[0 0 0 1 0 0 0 0 0]\n",
        " [0 0 0 0 0 1 0 0 0]\n",
        " [0 0 0 0 0 1 0 0 0]\n",
        " [0 1 0 0 0 0 0 0 0]\n",
        " [1 0 0 0 0 0 0 0 0]\n",
        " [0 1 0 0 0 0 0 0 0]\n",
        " [0 0 0 0 0 0 0 1 0]\n",
        " [0 1 0 0 0 0 0 0 0]\n",
        " [0 1 0 0 0 0 0 0 0]\n",
        " [0 0 0 0 0 0 0 1 0]\n",
        " [0 1 0 0 0 0 0 0 0]\n",
        " [0 0 0 0 0 0 0 0 1]\n",
        " [0 0 0 0 1 0 0 0 0]\n",
        " [0 1 0 0 0 0 0 0 0]\n",
        " [0 1 0 0 0 0 0 0 0]\n",
        " [0 0 0 0 0 0 1 0 0]\n",
        " [0 0 0 0 0 1 0 0 0]\n",
        " [0 0 0 0 0 1 0 0 0]\n",
        " [0 0 0 0 1 0 0 0 0]\n",
        " [0 1 0 0 0 0 0 0 0]]\n"
       ]
      }
     ],
     "prompt_number": 66
    },
    {
     "cell_type": "code",
     "collapsed": false,
     "input": [],
     "language": "python",
     "metadata": {},
     "outputs": [],
     "prompt_number": 66
    }
   ],
   "metadata": {}
  }
 ]
}