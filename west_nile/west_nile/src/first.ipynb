{
 "metadata": {
  "name": "",
  "signature": "sha256:5965fa03b2688ed2e81d35fc5fa56888e53b3c4c02cbf4dc2cc8532720f57814"
 },
 "nbformat": 3,
 "nbformat_minor": 0,
 "worksheets": [
  {
   "cells": [
    {
     "cell_type": "code",
     "collapsed": false,
     "input": [
      "## imports and setup\n",
      "import sys\n",
      "import numpy as np \n",
      "import pandas as pd\n",
      "import matplotlib.pyplot as plt\n",
      "from sklearn import linear_model\n",
      "from sklearn.grid_search import GridSearchCV\n",
      "from sklearn.metrics import f1_score, accuracy_score, log_loss, roc_auc_score, roc_curve"
     ],
     "language": "python",
     "metadata": {},
     "outputs": [],
     "prompt_number": 97
    },
    {
     "cell_type": "code",
     "collapsed": false,
     "input": [
      "## load the data\n",
      "df = pd.read_csv('../input/train.csv')\n",
      "print df.head()"
     ],
     "language": "python",
     "metadata": {},
     "outputs": [
      {
       "output_type": "stream",
       "stream": "stdout",
       "text": [
        "         Date                                            Address  \\\n",
        "0  2007-05-29  4100 North Oak Park Avenue, Chicago, IL 60634,...   \n",
        "1  2007-05-29  4100 North Oak Park Avenue, Chicago, IL 60634,...   \n",
        "2  2007-05-29  6200 North Mandell Avenue, Chicago, IL 60646, USA   \n",
        "3  2007-05-29    7900 West Foster Avenue, Chicago, IL 60656, USA   \n",
        "4  2007-05-29    7900 West Foster Avenue, Chicago, IL 60656, USA   \n",
        "\n",
        "                  Species  Block           Street  Trap  \\\n",
        "0  CULEX PIPIENS/RESTUANS     41   N OAK PARK AVE  T002   \n",
        "1          CULEX RESTUANS     41   N OAK PARK AVE  T002   \n",
        "2          CULEX RESTUANS     62    N MANDELL AVE  T007   \n",
        "3  CULEX PIPIENS/RESTUANS     79     W FOSTER AVE  T015   \n",
        "4          CULEX RESTUANS     79     W FOSTER AVE  T015   \n",
        "\n",
        "              AddressNumberAndStreet   Latitude  Longitude  AddressAccuracy  \\\n",
        "0  4100  N OAK PARK AVE, Chicago, IL  41.954690 -87.800991                9   \n",
        "1  4100  N OAK PARK AVE, Chicago, IL  41.954690 -87.800991                9   \n",
        "2   6200  N MANDELL AVE, Chicago, IL  41.994991 -87.769279                9   \n",
        "3    7900  W FOSTER AVE, Chicago, IL  41.974089 -87.824812                8   \n",
        "4    7900  W FOSTER AVE, Chicago, IL  41.974089 -87.824812                8   \n",
        "\n",
        "   NumMosquitos  WnvPresent  \n",
        "0             1           0  \n",
        "1             1           0  \n",
        "2             1           0  \n",
        "3             1           0  \n",
        "4             4           0  \n",
        "\n",
        "[5 rows x 12 columns]\n"
       ]
      }
     ],
     "prompt_number": 2
    },
    {
     "cell_type": "code",
     "collapsed": false,
     "input": [
      "## look at the data\n",
      "print df[df['NumMosquitos']>30]['WnvPresent'].mean()"
     ],
     "language": "python",
     "metadata": {},
     "outputs": [
      {
       "output_type": "stream",
       "stream": "stdout",
       "text": [
        "0.131232091691\n"
       ]
      }
     ],
     "prompt_number": 3
    },
    {
     "cell_type": "code",
     "collapsed": false,
     "input": [
      "## set parameters of linear model\n",
      "lin = linear_model.LogisticRegression(C=0.1, max_iter=10000, class_weight='auto', verbose=100,)\n",
      "sys.stdout.flush()"
     ],
     "language": "python",
     "metadata": {},
     "outputs": [],
     "prompt_number": 92
    },
    {
     "cell_type": "code",
     "collapsed": false,
     "input": [
      "#print df['WnvPresent']"
     ],
     "language": "python",
     "metadata": {},
     "outputs": [],
     "prompt_number": 84
    },
    {
     "cell_type": "code",
     "collapsed": false,
     "input": [
      "X = df[['NumMosquitos', 'AddressAccuracy']].as_matrix() ## must have two dimensions\n",
      "y = df['WnvPresent'].as_matrix()\n",
      "print np.shape(X)\n",
      "print np.shape(y)"
     ],
     "language": "python",
     "metadata": {},
     "outputs": [
      {
       "output_type": "stream",
       "stream": "stdout",
       "text": [
        "(10506, 2)\n",
        "(10506,)\n"
       ]
      }
     ],
     "prompt_number": 93
    },
    {
     "cell_type": "code",
     "collapsed": false,
     "input": [
      "lin.fit(X, y)"
     ],
     "language": "python",
     "metadata": {},
     "outputs": [
      {
       "output_type": "stream",
       "stream": "stdout",
       "text": [
        "[LibLinear]"
       ]
      },
      {
       "metadata": {},
       "output_type": "pyout",
       "prompt_number": 103,
       "text": [
        "LogisticRegression(C=0.1, class_weight='auto', dual=False, fit_intercept=True,\n",
        "          intercept_scaling=1, max_iter=10000, multi_class='ovr',\n",
        "          penalty='l2', random_state=None, solver='liblinear', tol=0.0001,\n",
        "          verbose=100)"
       ]
      }
     ],
     "prompt_number": 103
    },
    {
     "cell_type": "code",
     "collapsed": false,
     "input": [
      "pred_proba = lin.predict_proba()\n",
      "#pred = lin.predict(X)"
     ],
     "language": "python",
     "metadata": {},
     "outputs": [],
     "prompt_number": 104
    },
    {
     "cell_type": "code",
     "collapsed": false,
     "input": [
      "# print np.sum(pred)\n",
      "# print f1_score(y, pred)\n",
      "# print accuracy_score(y, pred)\n",
      "print pred_proba[:,0] # gives only the true predictions \n",
      "print roc_auc_score(y, pred_proba[:,0])"
     ],
     "language": "python",
     "metadata": {},
     "outputs": [
      {
       "output_type": "stream",
       "stream": "stdout",
       "text": [
        "[ 0.6828265   0.6828265   0.6828265  ...,  0.6828265   0.63899187\n",
        "  0.69490458]\n",
        "0.236961426237\n"
       ]
      }
     ],
     "prompt_number": 110
    }
   ],
   "metadata": {}
  }
 ]
}